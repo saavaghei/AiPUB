{
  "nbformat": 4,
  "nbformat_minor": 0,
  "metadata": {
    "colab": {
      "provenance": [],
      "gpuType": "T4",
      "authorship_tag": "ABX9TyM82beoDv7/Z8q8AzpbJ+h0",
      "include_colab_link": true
    },
    "kernelspec": {
      "name": "python3",
      "display_name": "Python 3"
    },
    "language_info": {
      "name": "python"
    },
    "accelerator": "GPU"
  },
  "cells": [
    {
      "cell_type": "markdown",
      "metadata": {
        "id": "view-in-github",
        "colab_type": "text"
      },
      "source": [
        "<a href=\"https://colab.research.google.com/github/saavaghei/AiPUB/blob/Deep/DeepLiveCam.ipynb\" target=\"_parent\"><img src=\"https://colab.research.google.com/assets/colab-badge.svg\" alt=\"Open In Colab\"/></a>"
      ]
    },
    {
      "cell_type": "code",
      "execution_count": 12,
      "metadata": {
        "colab": {
          "base_uri": "https://localhost:8080/"
        },
        "id": "yFYkTea0c7Ry",
        "outputId": "ea8c8a3e-6972-48ae-a77e-c08b9c7a6fc5"
      },
      "outputs": [
        {
          "output_type": "stream",
          "name": "stdout",
          "text": [
            "Cloning into 'Deep-Live-Cam'...\n",
            "remote: Enumerating objects: 372, done.\u001b[K\n",
            "remote: Counting objects: 100% (262/262), done.\u001b[K\n",
            "remote: Compressing objects: 100% (150/150), done.\u001b[K\n",
            "remote: Total 372 (delta 200), reused 124 (delta 112), pack-reused 110 (from 1)\u001b[K\n",
            "Receiving objects: 100% (372/372), 48.42 MiB | 36.92 MiB/s, done.\n",
            "Resolving deltas: 100% (206/206), done.\n",
            "/content/Deep-Live-Cam/Deep-Live-Cam/Deep-Live-Cam\n",
            "Looking in indexes: https://pypi.org/simple, https://download.pytorch.org/whl/cu118\n",
            "Requirement already satisfied: numpy<1.27,>=1.23.5 in /usr/local/lib/python3.10/dist-packages (from -r requirements.txt (line 3)) (1.26.4)\n",
            "Requirement already satisfied: opencv-python>=4.8.1.78 in /usr/local/lib/python3.10/dist-packages (from -r requirements.txt (line 4)) (4.10.0.84)\n",
            "Requirement already satisfied: onnx>=1.16.0 in /usr/local/lib/python3.10/dist-packages (from -r requirements.txt (line 5)) (1.16.2)\n",
            "Requirement already satisfied: insightface==0.7.3 in /usr/local/lib/python3.10/dist-packages (from -r requirements.txt (line 6)) (0.7.3)\n",
            "Requirement already satisfied: psutil in /usr/local/lib/python3.10/dist-packages (from -r requirements.txt (line 7)) (5.9.5)\n",
            "Requirement already satisfied: tk==0.1.0 in /usr/local/lib/python3.10/dist-packages (from -r requirements.txt (line 8)) (0.1.0)\n",
            "Requirement already satisfied: customtkinter==5.2.2 in /usr/local/lib/python3.10/dist-packages (from -r requirements.txt (line 9)) (5.2.2)\n",
            "Requirement already satisfied: pillow in /usr/local/lib/python3.10/dist-packages (from -r requirements.txt (line 10)) (9.4.0)\n",
            "Requirement already satisfied: onnxruntime<1.27,>=1.18.0 in /usr/local/lib/python3.10/dist-packages (from -r requirements.txt (line 11)) (1.19.0)\n",
            "Requirement already satisfied: onnxruntime-gpu<1.27,>=1.18.0 in /usr/local/lib/python3.10/dist-packages (from -r requirements.txt (line 12)) (1.19.0)\n",
            "Requirement already satisfied: tensorflow>=2.12.1 in /usr/local/lib/python3.10/dist-packages (from -r requirements.txt (line 13)) (2.17.0)\n",
            "Requirement already satisfied: opennsfw2==0.10.2 in /usr/local/lib/python3.10/dist-packages (from -r requirements.txt (line 14)) (0.10.2)\n",
            "Requirement already satisfied: protobuf<4.21,>=3.20.3 in /usr/local/lib/python3.10/dist-packages (from -r requirements.txt (line 15)) (3.20.3)\n",
            "Requirement already satisfied: tqdm==4.66.4 in /usr/local/lib/python3.10/dist-packages (from -r requirements.txt (line 16)) (4.66.4)\n",
            "Requirement already satisfied: gfpgan==1.3.8 in /usr/local/lib/python3.10/dist-packages (from -r requirements.txt (line 17)) (1.3.8)\n",
            "Requirement already satisfied: requests in /usr/local/lib/python3.10/dist-packages (from insightface==0.7.3->-r requirements.txt (line 6)) (2.32.3)\n",
            "Requirement already satisfied: matplotlib in /usr/local/lib/python3.10/dist-packages (from insightface==0.7.3->-r requirements.txt (line 6)) (3.7.1)\n",
            "Requirement already satisfied: scipy in /usr/local/lib/python3.10/dist-packages (from insightface==0.7.3->-r requirements.txt (line 6)) (1.13.1)\n",
            "Requirement already satisfied: scikit-learn in /usr/local/lib/python3.10/dist-packages (from insightface==0.7.3->-r requirements.txt (line 6)) (1.3.2)\n",
            "Requirement already satisfied: scikit-image in /usr/local/lib/python3.10/dist-packages (from insightface==0.7.3->-r requirements.txt (line 6)) (0.23.2)\n",
            "Requirement already satisfied: easydict in /usr/local/lib/python3.10/dist-packages (from insightface==0.7.3->-r requirements.txt (line 6)) (1.13)\n",
            "Requirement already satisfied: cython in /usr/local/lib/python3.10/dist-packages (from insightface==0.7.3->-r requirements.txt (line 6)) (3.0.11)\n",
            "Requirement already satisfied: albumentations in /usr/local/lib/python3.10/dist-packages (from insightface==0.7.3->-r requirements.txt (line 6)) (1.4.14)\n",
            "Requirement already satisfied: prettytable in /usr/local/lib/python3.10/dist-packages (from insightface==0.7.3->-r requirements.txt (line 6)) (3.11.0)\n",
            "Requirement already satisfied: darkdetect in /usr/local/lib/python3.10/dist-packages (from customtkinter==5.2.2->-r requirements.txt (line 9)) (0.8.0)\n",
            "Requirement already satisfied: packaging in /usr/local/lib/python3.10/dist-packages (from customtkinter==5.2.2->-r requirements.txt (line 9)) (24.1)\n",
            "Requirement already satisfied: gdown>=4.2.0 in /usr/local/lib/python3.10/dist-packages (from opennsfw2==0.10.2->-r requirements.txt (line 14)) (5.1.0)\n",
            "Requirement already satisfied: basicsr>=1.4.2 in /usr/local/lib/python3.10/dist-packages (from gfpgan==1.3.8->-r requirements.txt (line 17)) (1.4.2)\n",
            "Requirement already satisfied: facexlib>=0.2.5 in /usr/local/lib/python3.10/dist-packages (from gfpgan==1.3.8->-r requirements.txt (line 17)) (0.3.0)\n",
            "Requirement already satisfied: lmdb in /usr/local/lib/python3.10/dist-packages (from gfpgan==1.3.8->-r requirements.txt (line 17)) (1.5.1)\n",
            "Requirement already satisfied: pyyaml in /usr/local/lib/python3.10/dist-packages (from gfpgan==1.3.8->-r requirements.txt (line 17)) (6.0.2)\n",
            "Requirement already satisfied: tb-nightly in /usr/local/lib/python3.10/dist-packages (from gfpgan==1.3.8->-r requirements.txt (line 17)) (2.18.0a20240903)\n",
            "Requirement already satisfied: torch>=1.7 in /usr/local/lib/python3.10/dist-packages (from gfpgan==1.3.8->-r requirements.txt (line 17)) (2.0.1+cu118)\n",
            "Requirement already satisfied: torchvision in /usr/local/lib/python3.10/dist-packages (from gfpgan==1.3.8->-r requirements.txt (line 17)) (0.15.2+cu118)\n",
            "Requirement already satisfied: yapf in /usr/local/lib/python3.10/dist-packages (from gfpgan==1.3.8->-r requirements.txt (line 17)) (0.40.2)\n",
            "Requirement already satisfied: coloredlogs in /usr/local/lib/python3.10/dist-packages (from onnxruntime<1.27,>=1.18.0->-r requirements.txt (line 11)) (15.0.1)\n",
            "Requirement already satisfied: flatbuffers in /usr/local/lib/python3.10/dist-packages (from onnxruntime<1.27,>=1.18.0->-r requirements.txt (line 11)) (24.3.25)\n",
            "Requirement already satisfied: sympy in /usr/local/lib/python3.10/dist-packages (from onnxruntime<1.27,>=1.18.0->-r requirements.txt (line 11)) (1.13.2)\n",
            "Requirement already satisfied: absl-py>=1.0.0 in /usr/local/lib/python3.10/dist-packages (from tensorflow>=2.12.1->-r requirements.txt (line 13)) (1.4.0)\n",
            "Requirement already satisfied: astunparse>=1.6.0 in /usr/local/lib/python3.10/dist-packages (from tensorflow>=2.12.1->-r requirements.txt (line 13)) (1.6.3)\n",
            "Requirement already satisfied: gast!=0.5.0,!=0.5.1,!=0.5.2,>=0.2.1 in /usr/local/lib/python3.10/dist-packages (from tensorflow>=2.12.1->-r requirements.txt (line 13)) (0.6.0)\n",
            "Requirement already satisfied: google-pasta>=0.1.1 in /usr/local/lib/python3.10/dist-packages (from tensorflow>=2.12.1->-r requirements.txt (line 13)) (0.2.0)\n",
            "Requirement already satisfied: h5py>=3.10.0 in /usr/local/lib/python3.10/dist-packages (from tensorflow>=2.12.1->-r requirements.txt (line 13)) (3.11.0)\n",
            "Requirement already satisfied: libclang>=13.0.0 in /usr/local/lib/python3.10/dist-packages (from tensorflow>=2.12.1->-r requirements.txt (line 13)) (18.1.1)\n",
            "Requirement already satisfied: ml-dtypes<0.5.0,>=0.3.1 in /usr/local/lib/python3.10/dist-packages (from tensorflow>=2.12.1->-r requirements.txt (line 13)) (0.4.0)\n",
            "Requirement already satisfied: opt-einsum>=2.3.2 in /usr/local/lib/python3.10/dist-packages (from tensorflow>=2.12.1->-r requirements.txt (line 13)) (3.3.0)\n",
            "Requirement already satisfied: setuptools in /usr/local/lib/python3.10/dist-packages (from tensorflow>=2.12.1->-r requirements.txt (line 13)) (71.0.4)\n",
            "Requirement already satisfied: six>=1.12.0 in /usr/local/lib/python3.10/dist-packages (from tensorflow>=2.12.1->-r requirements.txt (line 13)) (1.16.0)\n",
            "Requirement already satisfied: termcolor>=1.1.0 in /usr/local/lib/python3.10/dist-packages (from tensorflow>=2.12.1->-r requirements.txt (line 13)) (2.4.0)\n",
            "Requirement already satisfied: typing-extensions>=3.6.6 in /usr/local/lib/python3.10/dist-packages (from tensorflow>=2.12.1->-r requirements.txt (line 13)) (4.12.2)\n",
            "Requirement already satisfied: wrapt>=1.11.0 in /usr/local/lib/python3.10/dist-packages (from tensorflow>=2.12.1->-r requirements.txt (line 13)) (1.16.0)\n",
            "Requirement already satisfied: grpcio<2.0,>=1.24.3 in /usr/local/lib/python3.10/dist-packages (from tensorflow>=2.12.1->-r requirements.txt (line 13)) (1.64.1)\n",
            "Requirement already satisfied: tensorboard<2.18,>=2.17 in /usr/local/lib/python3.10/dist-packages (from tensorflow>=2.12.1->-r requirements.txt (line 13)) (2.17.0)\n",
            "Requirement already satisfied: keras>=3.2.0 in /usr/local/lib/python3.10/dist-packages (from tensorflow>=2.12.1->-r requirements.txt (line 13)) (3.4.1)\n",
            "Requirement already satisfied: tensorflow-io-gcs-filesystem>=0.23.1 in /usr/local/lib/python3.10/dist-packages (from tensorflow>=2.12.1->-r requirements.txt (line 13)) (0.37.1)\n",
            "Requirement already satisfied: wheel<1.0,>=0.23.0 in /usr/local/lib/python3.10/dist-packages (from astunparse>=1.6.0->tensorflow>=2.12.1->-r requirements.txt (line 13)) (0.44.0)\n",
            "Requirement already satisfied: addict in /usr/local/lib/python3.10/dist-packages (from basicsr>=1.4.2->gfpgan==1.3.8->-r requirements.txt (line 17)) (2.4.0)\n",
            "Requirement already satisfied: future in /usr/local/lib/python3.10/dist-packages (from basicsr>=1.4.2->gfpgan==1.3.8->-r requirements.txt (line 17)) (1.0.0)\n",
            "Requirement already satisfied: filterpy in /usr/local/lib/python3.10/dist-packages (from facexlib>=0.2.5->gfpgan==1.3.8->-r requirements.txt (line 17)) (1.4.5)\n",
            "Requirement already satisfied: numba in /usr/local/lib/python3.10/dist-packages (from facexlib>=0.2.5->gfpgan==1.3.8->-r requirements.txt (line 17)) (0.60.0)\n",
            "Requirement already satisfied: beautifulsoup4 in /usr/local/lib/python3.10/dist-packages (from gdown>=4.2.0->opennsfw2==0.10.2->-r requirements.txt (line 14)) (4.12.3)\n",
            "Requirement already satisfied: filelock in /usr/local/lib/python3.10/dist-packages (from gdown>=4.2.0->opennsfw2==0.10.2->-r requirements.txt (line 14)) (3.15.4)\n",
            "Requirement already satisfied: rich in /usr/local/lib/python3.10/dist-packages (from keras>=3.2.0->tensorflow>=2.12.1->-r requirements.txt (line 13)) (13.8.0)\n",
            "Requirement already satisfied: namex in /usr/local/lib/python3.10/dist-packages (from keras>=3.2.0->tensorflow>=2.12.1->-r requirements.txt (line 13)) (0.0.8)\n",
            "Requirement already satisfied: optree in /usr/local/lib/python3.10/dist-packages (from keras>=3.2.0->tensorflow>=2.12.1->-r requirements.txt (line 13)) (0.12.1)\n",
            "Requirement already satisfied: contourpy>=1.0.1 in /usr/local/lib/python3.10/dist-packages (from matplotlib->insightface==0.7.3->-r requirements.txt (line 6)) (1.3.0)\n",
            "Requirement already satisfied: cycler>=0.10 in /usr/local/lib/python3.10/dist-packages (from matplotlib->insightface==0.7.3->-r requirements.txt (line 6)) (0.12.1)\n",
            "Requirement already satisfied: fonttools>=4.22.0 in /usr/local/lib/python3.10/dist-packages (from matplotlib->insightface==0.7.3->-r requirements.txt (line 6)) (4.53.1)\n",
            "Requirement already satisfied: kiwisolver>=1.0.1 in /usr/local/lib/python3.10/dist-packages (from matplotlib->insightface==0.7.3->-r requirements.txt (line 6)) (1.4.5)\n",
            "Requirement already satisfied: pyparsing>=2.3.1 in /usr/local/lib/python3.10/dist-packages (from matplotlib->insightface==0.7.3->-r requirements.txt (line 6)) (3.1.4)\n",
            "Requirement already satisfied: python-dateutil>=2.7 in /usr/local/lib/python3.10/dist-packages (from matplotlib->insightface==0.7.3->-r requirements.txt (line 6)) (2.8.2)\n",
            "Requirement already satisfied: charset-normalizer<4,>=2 in /usr/local/lib/python3.10/dist-packages (from requests->insightface==0.7.3->-r requirements.txt (line 6)) (3.3.2)\n",
            "Requirement already satisfied: idna<4,>=2.5 in /usr/local/lib/python3.10/dist-packages (from requests->insightface==0.7.3->-r requirements.txt (line 6)) (3.8)\n",
            "Requirement already satisfied: urllib3<3,>=1.21.1 in /usr/local/lib/python3.10/dist-packages (from requests->insightface==0.7.3->-r requirements.txt (line 6)) (2.0.7)\n",
            "Requirement already satisfied: certifi>=2017.4.17 in /usr/local/lib/python3.10/dist-packages (from requests->insightface==0.7.3->-r requirements.txt (line 6)) (2024.7.4)\n",
            "Requirement already satisfied: networkx>=2.8 in /usr/local/lib/python3.10/dist-packages (from scikit-image->insightface==0.7.3->-r requirements.txt (line 6)) (3.3)\n",
            "Requirement already satisfied: imageio>=2.33 in /usr/local/lib/python3.10/dist-packages (from scikit-image->insightface==0.7.3->-r requirements.txt (line 6)) (2.34.2)\n",
            "Requirement already satisfied: tifffile>=2022.8.12 in /usr/local/lib/python3.10/dist-packages (from scikit-image->insightface==0.7.3->-r requirements.txt (line 6)) (2024.8.28)\n",
            "Requirement already satisfied: lazy-loader>=0.4 in /usr/local/lib/python3.10/dist-packages (from scikit-image->insightface==0.7.3->-r requirements.txt (line 6)) (0.4)\n",
            "Requirement already satisfied: markdown>=2.6.8 in /usr/local/lib/python3.10/dist-packages (from tensorboard<2.18,>=2.17->tensorflow>=2.12.1->-r requirements.txt (line 13)) (3.7)\n",
            "Requirement already satisfied: tensorboard-data-server<0.8.0,>=0.7.0 in /usr/local/lib/python3.10/dist-packages (from tensorboard<2.18,>=2.17->tensorflow>=2.12.1->-r requirements.txt (line 13)) (0.7.2)\n",
            "Requirement already satisfied: werkzeug>=1.0.1 in /usr/local/lib/python3.10/dist-packages (from tensorboard<2.18,>=2.17->tensorflow>=2.12.1->-r requirements.txt (line 13)) (3.0.4)\n",
            "Requirement already satisfied: jinja2 in /usr/local/lib/python3.10/dist-packages (from torch>=1.7->gfpgan==1.3.8->-r requirements.txt (line 17)) (3.1.4)\n",
            "Requirement already satisfied: triton==2.0.0 in /usr/local/lib/python3.10/dist-packages (from torch>=1.7->gfpgan==1.3.8->-r requirements.txt (line 17)) (2.0.0)\n",
            "Requirement already satisfied: cmake in /usr/local/lib/python3.10/dist-packages (from triton==2.0.0->torch>=1.7->gfpgan==1.3.8->-r requirements.txt (line 17)) (3.30.2)\n",
            "Requirement already satisfied: lit in /usr/local/lib/python3.10/dist-packages (from triton==2.0.0->torch>=1.7->gfpgan==1.3.8->-r requirements.txt (line 17)) (18.1.8)\n",
            "Requirement already satisfied: pydantic>=2.7.0 in /usr/local/lib/python3.10/dist-packages (from albumentations->insightface==0.7.3->-r requirements.txt (line 6)) (2.8.2)\n",
            "Requirement already satisfied: albucore>=0.0.13 in /usr/local/lib/python3.10/dist-packages (from albumentations->insightface==0.7.3->-r requirements.txt (line 6)) (0.0.14)\n",
            "Requirement already satisfied: eval-type-backport in /usr/local/lib/python3.10/dist-packages (from albumentations->insightface==0.7.3->-r requirements.txt (line 6)) (0.2.0)\n",
            "Requirement already satisfied: opencv-python-headless>=4.9.0.80 in /usr/local/lib/python3.10/dist-packages (from albumentations->insightface==0.7.3->-r requirements.txt (line 6)) (4.10.0.84)\n",
            "Requirement already satisfied: humanfriendly>=9.1 in /usr/local/lib/python3.10/dist-packages (from coloredlogs->onnxruntime<1.27,>=1.18.0->-r requirements.txt (line 11)) (10.0)\n",
            "Requirement already satisfied: wcwidth in /usr/local/lib/python3.10/dist-packages (from prettytable->insightface==0.7.3->-r requirements.txt (line 6)) (0.2.13)\n",
            "Requirement already satisfied: joblib>=1.1.1 in /usr/local/lib/python3.10/dist-packages (from scikit-learn->insightface==0.7.3->-r requirements.txt (line 6)) (1.4.2)\n",
            "Requirement already satisfied: threadpoolctl>=2.0.0 in /usr/local/lib/python3.10/dist-packages (from scikit-learn->insightface==0.7.3->-r requirements.txt (line 6)) (3.5.0)\n",
            "Requirement already satisfied: mpmath<1.4,>=1.1.0 in /usr/local/lib/python3.10/dist-packages (from sympy->onnxruntime<1.27,>=1.18.0->-r requirements.txt (line 11)) (1.3.0)\n",
            "Requirement already satisfied: importlib-metadata>=6.6.0 in /usr/local/lib/python3.10/dist-packages (from yapf->gfpgan==1.3.8->-r requirements.txt (line 17)) (8.4.0)\n",
            "Requirement already satisfied: platformdirs>=3.5.1 in /usr/local/lib/python3.10/dist-packages (from yapf->gfpgan==1.3.8->-r requirements.txt (line 17)) (4.2.2)\n",
            "Requirement already satisfied: tomli>=2.0.1 in /usr/local/lib/python3.10/dist-packages (from yapf->gfpgan==1.3.8->-r requirements.txt (line 17)) (2.0.1)\n",
            "Requirement already satisfied: zipp>=0.5 in /usr/local/lib/python3.10/dist-packages (from importlib-metadata>=6.6.0->yapf->gfpgan==1.3.8->-r requirements.txt (line 17)) (3.20.1)\n",
            "Requirement already satisfied: annotated-types>=0.4.0 in /usr/local/lib/python3.10/dist-packages (from pydantic>=2.7.0->albumentations->insightface==0.7.3->-r requirements.txt (line 6)) (0.7.0)\n",
            "Requirement already satisfied: pydantic-core==2.20.1 in /usr/local/lib/python3.10/dist-packages (from pydantic>=2.7.0->albumentations->insightface==0.7.3->-r requirements.txt (line 6)) (2.20.1)\n",
            "Requirement already satisfied: MarkupSafe>=2.1.1 in /usr/local/lib/python3.10/dist-packages (from werkzeug>=1.0.1->tensorboard<2.18,>=2.17->tensorflow>=2.12.1->-r requirements.txt (line 13)) (2.1.5)\n",
            "Requirement already satisfied: soupsieve>1.2 in /usr/local/lib/python3.10/dist-packages (from beautifulsoup4->gdown>=4.2.0->opennsfw2==0.10.2->-r requirements.txt (line 14)) (2.6)\n",
            "Requirement already satisfied: llvmlite<0.44,>=0.43.0dev0 in /usr/local/lib/python3.10/dist-packages (from numba->facexlib>=0.2.5->gfpgan==1.3.8->-r requirements.txt (line 17)) (0.43.0)\n",
            "Requirement already satisfied: PySocks!=1.5.7,>=1.5.6 in /usr/local/lib/python3.10/dist-packages (from requests[socks]->gdown>=4.2.0->opennsfw2==0.10.2->-r requirements.txt (line 14)) (1.7.1)\n",
            "Requirement already satisfied: markdown-it-py>=2.2.0 in /usr/local/lib/python3.10/dist-packages (from rich->keras>=3.2.0->tensorflow>=2.12.1->-r requirements.txt (line 13)) (3.0.0)\n",
            "Requirement already satisfied: pygments<3.0.0,>=2.13.0 in /usr/local/lib/python3.10/dist-packages (from rich->keras>=3.2.0->tensorflow>=2.12.1->-r requirements.txt (line 13)) (2.16.1)\n",
            "Requirement already satisfied: mdurl~=0.1 in /usr/local/lib/python3.10/dist-packages (from markdown-it-py>=2.2.0->rich->keras>=3.2.0->tensorflow>=2.12.1->-r requirements.txt (line 13)) (0.1.2)\n"
          ]
        }
      ],
      "source": [
        "!git clone https://github.com/saavaghei/Deep-Live-Cam.git\n",
        "%cd Deep-Live-Cam\n",
        "!pip install -r requirements.txt\n"
      ]
    },
    {
      "cell_type": "code",
      "source": [
        "!wget https://huggingface.co/hacksider/deep-live-cam/resolve/main/GFPGANv1.4.pth\n",
        "!wget https://huggingface.co/hacksider/deep-live-cam/resolve/main/inswapper_128_fp16.onnx\n",
        "!mkdir models\n",
        "!mv inswapper_128_fp16.onnx ./models\n",
        "!mv GFPGANv1.4.pth ./models\n"
      ],
      "metadata": {
        "colab": {
          "base_uri": "https://localhost:8080/"
        },
        "id": "-i9tYqJjj16A",
        "outputId": "d11c377b-f309-4281-9c06-d5bae751b4cc"
      },
      "execution_count": 13,
      "outputs": [
        {
          "output_type": "stream",
          "name": "stdout",
          "text": [
            "--2024-09-03 20:13:05--  https://huggingface.co/hacksider/deep-live-cam/resolve/main/GFPGANv1.4.pth\n",
            "Resolving huggingface.co (huggingface.co)... 3.165.160.59, 3.165.160.11, 3.165.160.12, ...\n",
            "Connecting to huggingface.co (huggingface.co)|3.165.160.59|:443... connected.\n",
            "HTTP request sent, awaiting response... 302 Found\n",
            "Location: https://cdn-lfs.huggingface.co/repos/47/8e/478ea6841e7ee9b6a18fcbd35a172c66f44ae30fcce68054ea545317cb889208/e2cd4703ab14f4d01fd1383a8a8b266f9a5833dacee8e6a79d3bf21a1b6be5ad?response-content-disposition=inline%3B+filename*%3DUTF-8%27%27GFPGANv1.4.pth%3B+filename%3D%22GFPGANv1.4.pth%22%3B&Expires=1725653585&Policy=eyJTdGF0ZW1lbnQiOlt7IkNvbmRpdGlvbiI6eyJEYXRlTGVzc1RoYW4iOnsiQVdTOkVwb2NoVGltZSI6MTcyNTY1MzU4NX19LCJSZXNvdXJjZSI6Imh0dHBzOi8vY2RuLWxmcy5odWdnaW5nZmFjZS5jby9yZXBvcy80Ny84ZS80NzhlYTY4NDFlN2VlOWI2YTE4ZmNiZDM1YTE3MmM2NmY0NGFlMzBmY2NlNjgwNTRlYTU0NTMxN2NiODg5MjA4L2UyY2Q0NzAzYWIxNGY0ZDAxZmQxMzgzYThhOGIyNjZmOWE1ODMzZGFjZWU4ZTZhNzlkM2JmMjFhMWI2YmU1YWQ%7EcmVzcG9uc2UtY29udGVudC1kaXNwb3NpdGlvbj0qIn1dfQ__&Signature=F3NlRT1VqRshr4%7EBQkzdyYR3TpWg2ylpMfYvx17roYM4iyB0tuuUGo5GVVqRzbybuPY2b%7Ejp7QDT1iJOOpVUVMNIyI78cJ5fhP31zmVTGxqT6PLwyAPJONzeeVASsdfexsMvVGRrrMf166HqFbdCHz1nuLLkzpQkj8Lnpms2xVOu-dhBzAz2uFkOuyFbDyAN9B9w3AIyFlJajp2NWEEs0d98QUC43FnxbRPt1TjOdFVtatB%7Edirm7Pxf77YJB4bJOPpFkSQkzmhE1P%7EYUAF3vm4ZdmgX-aygPBftFfhAoHxabGoRlmQybpyXM2oy0HFHuEYv1x4ihLlFVEJkZF8TCA__&Key-Pair-Id=K3ESJI6DHPFC7 [following]\n",
            "--2024-09-03 20:13:05--  https://cdn-lfs.huggingface.co/repos/47/8e/478ea6841e7ee9b6a18fcbd35a172c66f44ae30fcce68054ea545317cb889208/e2cd4703ab14f4d01fd1383a8a8b266f9a5833dacee8e6a79d3bf21a1b6be5ad?response-content-disposition=inline%3B+filename*%3DUTF-8%27%27GFPGANv1.4.pth%3B+filename%3D%22GFPGANv1.4.pth%22%3B&Expires=1725653585&Policy=eyJTdGF0ZW1lbnQiOlt7IkNvbmRpdGlvbiI6eyJEYXRlTGVzc1RoYW4iOnsiQVdTOkVwb2NoVGltZSI6MTcyNTY1MzU4NX19LCJSZXNvdXJjZSI6Imh0dHBzOi8vY2RuLWxmcy5odWdnaW5nZmFjZS5jby9yZXBvcy80Ny84ZS80NzhlYTY4NDFlN2VlOWI2YTE4ZmNiZDM1YTE3MmM2NmY0NGFlMzBmY2NlNjgwNTRlYTU0NTMxN2NiODg5MjA4L2UyY2Q0NzAzYWIxNGY0ZDAxZmQxMzgzYThhOGIyNjZmOWE1ODMzZGFjZWU4ZTZhNzlkM2JmMjFhMWI2YmU1YWQ%7EcmVzcG9uc2UtY29udGVudC1kaXNwb3NpdGlvbj0qIn1dfQ__&Signature=F3NlRT1VqRshr4%7EBQkzdyYR3TpWg2ylpMfYvx17roYM4iyB0tuuUGo5GVVqRzbybuPY2b%7Ejp7QDT1iJOOpVUVMNIyI78cJ5fhP31zmVTGxqT6PLwyAPJONzeeVASsdfexsMvVGRrrMf166HqFbdCHz1nuLLkzpQkj8Lnpms2xVOu-dhBzAz2uFkOuyFbDyAN9B9w3AIyFlJajp2NWEEs0d98QUC43FnxbRPt1TjOdFVtatB%7Edirm7Pxf77YJB4bJOPpFkSQkzmhE1P%7EYUAF3vm4ZdmgX-aygPBftFfhAoHxabGoRlmQybpyXM2oy0HFHuEYv1x4ihLlFVEJkZF8TCA__&Key-Pair-Id=K3ESJI6DHPFC7\n",
            "Resolving cdn-lfs.huggingface.co (cdn-lfs.huggingface.co)... 108.138.94.122, 108.138.94.23, 108.138.94.14, ...\n",
            "Connecting to cdn-lfs.huggingface.co (cdn-lfs.huggingface.co)|108.138.94.122|:443... connected.\n",
            "HTTP request sent, awaiting response... 200 OK\n",
            "Length: 348632874 (332M) [binary/octet-stream]\n",
            "Saving to: ‘GFPGANv1.4.pth’\n",
            "\n",
            "GFPGANv1.4.pth      100%[===================>] 332.48M   265MB/s    in 1.3s    \n",
            "\n",
            "2024-09-03 20:13:07 (265 MB/s) - ‘GFPGANv1.4.pth’ saved [348632874/348632874]\n",
            "\n",
            "--2024-09-03 20:13:07--  https://huggingface.co/hacksider/deep-live-cam/resolve/main/inswapper_128_fp16.onnx\n",
            "Resolving huggingface.co (huggingface.co)... 3.165.160.61, 3.165.160.12, 3.165.160.11, ...\n",
            "Connecting to huggingface.co (huggingface.co)|3.165.160.61|:443... connected.\n",
            "HTTP request sent, awaiting response... 302 Found\n",
            "Location: https://cdn-lfs.huggingface.co/repos/47/8e/478ea6841e7ee9b6a18fcbd35a172c66f44ae30fcce68054ea545317cb889208/32031dbe50398c1beffa9daadaec8dd7ae9529d8314a0307b45a4987497f8494?response-content-disposition=inline%3B+filename*%3DUTF-8%27%27inswapper_128_fp16.onnx%3B+filename%3D%22inswapper_128_fp16.onnx%22%3B&Expires=1725653587&Policy=eyJTdGF0ZW1lbnQiOlt7IkNvbmRpdGlvbiI6eyJEYXRlTGVzc1RoYW4iOnsiQVdTOkVwb2NoVGltZSI6MTcyNTY1MzU4N319LCJSZXNvdXJjZSI6Imh0dHBzOi8vY2RuLWxmcy5odWdnaW5nZmFjZS5jby9yZXBvcy80Ny84ZS80NzhlYTY4NDFlN2VlOWI2YTE4ZmNiZDM1YTE3MmM2NmY0NGFlMzBmY2NlNjgwNTRlYTU0NTMxN2NiODg5MjA4LzMyMDMxZGJlNTAzOThjMWJlZmZhOWRhYWRhZWM4ZGQ3YWU5NTI5ZDgzMTRhMDMwN2I0NWE0OTg3NDk3Zjg0OTQ%7EcmVzcG9uc2UtY29udGVudC1kaXNwb3NpdGlvbj0qIn1dfQ__&Signature=CGXiiJnMYYPv%7Evu4QSBOKf6D4aqfVb4YIcQJFecMZgDjfXB8bxT1rldr1WbICzkXGdwRFxVgfccmk70a5Q3kUN6P6Ji0-onC7TuF57hRrC6x6e2t3W6NgJdHPwQrZUGAcCUN8mEPoyXmVxxbhbNYnYU4-vZ-97zwruygY94knbgs3hUm6zCk9DfZd04eonJsWdTEe7KRQlYUS9VkIhzEk5-v%7Eu2saQgtyciIx%7Exmlc1SoM1Zlq1IWG%7E7jWEdo4fkpB6SFXtfWeAZAeiBvvk9PjQnPfvAYGTzT6VN1BQYRnX2Cqboz6fo0ufEl3XMaUFbIeL0YcQA%7Etoxox-GDJfw7g__&Key-Pair-Id=K3ESJI6DHPFC7 [following]\n",
            "--2024-09-03 20:13:07--  https://cdn-lfs.huggingface.co/repos/47/8e/478ea6841e7ee9b6a18fcbd35a172c66f44ae30fcce68054ea545317cb889208/32031dbe50398c1beffa9daadaec8dd7ae9529d8314a0307b45a4987497f8494?response-content-disposition=inline%3B+filename*%3DUTF-8%27%27inswapper_128_fp16.onnx%3B+filename%3D%22inswapper_128_fp16.onnx%22%3B&Expires=1725653587&Policy=eyJTdGF0ZW1lbnQiOlt7IkNvbmRpdGlvbiI6eyJEYXRlTGVzc1RoYW4iOnsiQVdTOkVwb2NoVGltZSI6MTcyNTY1MzU4N319LCJSZXNvdXJjZSI6Imh0dHBzOi8vY2RuLWxmcy5odWdnaW5nZmFjZS5jby9yZXBvcy80Ny84ZS80NzhlYTY4NDFlN2VlOWI2YTE4ZmNiZDM1YTE3MmM2NmY0NGFlMzBmY2NlNjgwNTRlYTU0NTMxN2NiODg5MjA4LzMyMDMxZGJlNTAzOThjMWJlZmZhOWRhYWRhZWM4ZGQ3YWU5NTI5ZDgzMTRhMDMwN2I0NWE0OTg3NDk3Zjg0OTQ%7EcmVzcG9uc2UtY29udGVudC1kaXNwb3NpdGlvbj0qIn1dfQ__&Signature=CGXiiJnMYYPv%7Evu4QSBOKf6D4aqfVb4YIcQJFecMZgDjfXB8bxT1rldr1WbICzkXGdwRFxVgfccmk70a5Q3kUN6P6Ji0-onC7TuF57hRrC6x6e2t3W6NgJdHPwQrZUGAcCUN8mEPoyXmVxxbhbNYnYU4-vZ-97zwruygY94knbgs3hUm6zCk9DfZd04eonJsWdTEe7KRQlYUS9VkIhzEk5-v%7Eu2saQgtyciIx%7Exmlc1SoM1Zlq1IWG%7E7jWEdo4fkpB6SFXtfWeAZAeiBvvk9PjQnPfvAYGTzT6VN1BQYRnX2Cqboz6fo0ufEl3XMaUFbIeL0YcQA%7Etoxox-GDJfw7g__&Key-Pair-Id=K3ESJI6DHPFC7\n",
            "Resolving cdn-lfs.huggingface.co (cdn-lfs.huggingface.co)... 108.138.94.122, 108.138.94.23, 108.138.94.14, ...\n",
            "Connecting to cdn-lfs.huggingface.co (cdn-lfs.huggingface.co)|108.138.94.122|:443... connected.\n",
            "HTTP request sent, awaiting response... 200 OK\n",
            "Length: 277288649 (264M) [binary/octet-stream]\n",
            "Saving to: ‘inswapper_128_fp16.onnx’\n",
            "\n",
            "inswapper_128_fp16. 100%[===================>] 264.44M   265MB/s    in 1.0s    \n",
            "\n",
            "2024-09-03 20:13:08 (265 MB/s) - ‘inswapper_128_fp16.onnx’ saved [277288649/277288649]\n",
            "\n",
            "mkdir: cannot create directory ‘models’: File exists\n"
          ]
        }
      ]
    },
    {
      "cell_type": "code",
      "source": [
        "image_path = '/content/girl3.png'\n",
        "video_path = '/content/girl5.png'\n",
        "# !python run.py --target \"{video_path}\" --output-video-quality 80 --source \"{image_path}\" -o /content/swapped.mp4 --execution-provider azure --frame-processor face_swapper face_enhancer\n",
        "# !python run.py -s \"/content/girl3.png\" -t \"/content/vid.mp4\" -o \"/content/swapped_video.mp4\" --execution-provider azure --frame-processor face_swapper face_enhancer\n",
        "!python run.py -s \"/content/girl3.png\" -t \"/content/am0.jpg\" -o \"/content/swapped_image.jpg\" --execution-provider azure\n",
        "\n",
        "\n",
        "\n"
      ],
      "metadata": {
        "colab": {
          "base_uri": "https://localhost:8080/"
        },
        "id": "3j7x-h3pnQO0",
        "outputId": "2e0b24f4-2280-4dbd-d92f-607ff3382f8b"
      },
      "execution_count": 14,
      "outputs": [
        {
          "output_type": "stream",
          "name": "stdout",
          "text": [
            "2024-09-03 20:13:10.527063: E external/local_xla/xla/stream_executor/cuda/cuda_fft.cc:485] Unable to register cuFFT factory: Attempting to register factory for plugin cuFFT when one has already been registered\n",
            "2024-09-03 20:13:10.545216: E external/local_xla/xla/stream_executor/cuda/cuda_dnn.cc:8454] Unable to register cuDNN factory: Attempting to register factory for plugin cuDNN when one has already been registered\n",
            "2024-09-03 20:13:10.550620: E external/local_xla/xla/stream_executor/cuda/cuda_blas.cc:1452] Unable to register cuBLAS factory: Attempting to register factory for plugin cuBLAS when one has already been registered\n",
            "WARNING: All log messages before absl::InitializeLog() is called are written to STDERR\n",
            "I0000 00:00:1725394396.875420   17743 cuda_executor.cc:1015] successful NUMA node read from SysFS had negative value (-1), but there must be at least one NUMA node, so returning NUMA node zero. See more at https://github.com/torvalds/linux/blob/v6.0/Documentation/ABI/testing/sysfs-bus-pci#L344-L355\n",
            "I0000 00:00:1725394396.923077   17743 cuda_executor.cc:1015] successful NUMA node read from SysFS had negative value (-1), but there must be at least one NUMA node, so returning NUMA node zero. See more at https://github.com/torvalds/linux/blob/v6.0/Documentation/ABI/testing/sysfs-bus-pci#L344-L355\n",
            "I0000 00:00:1725394396.923306   17743 cuda_executor.cc:1015] successful NUMA node read from SysFS had negative value (-1), but there must be at least one NUMA node, so returning NUMA node zero. See more at https://github.com/torvalds/linux/blob/v6.0/Documentation/ABI/testing/sysfs-bus-pci#L344-L355\n",
            "Applied providers: ['AzureExecutionProvider', 'CPUExecutionProvider'], with options: {'CPUExecutionProvider': {}, 'AzureExecutionProvider': {}}\n",
            "find model: /root/.insightface/models/buffalo_l/1k3d68.onnx landmark_3d_68 ['None', 3, 192, 192] 0.0 1.0\n",
            "Applied providers: ['AzureExecutionProvider', 'CPUExecutionProvider'], with options: {'CPUExecutionProvider': {}, 'AzureExecutionProvider': {}}\n",
            "find model: /root/.insightface/models/buffalo_l/2d106det.onnx landmark_2d_106 ['None', 3, 192, 192] 0.0 1.0\n",
            "Applied providers: ['AzureExecutionProvider', 'CPUExecutionProvider'], with options: {'CPUExecutionProvider': {}, 'AzureExecutionProvider': {}}\n",
            "find model: /root/.insightface/models/buffalo_l/det_10g.onnx detection [1, 3, '?', '?'] 127.5 128.0\n",
            "Applied providers: ['AzureExecutionProvider', 'CPUExecutionProvider'], with options: {'CPUExecutionProvider': {}, 'AzureExecutionProvider': {}}\n",
            "find model: /root/.insightface/models/buffalo_l/genderage.onnx genderage ['None', 3, 96, 96] 0.0 1.0\n",
            "Applied providers: ['AzureExecutionProvider', 'CPUExecutionProvider'], with options: {'CPUExecutionProvider': {}, 'AzureExecutionProvider': {}}\n",
            "find model: /root/.insightface/models/buffalo_l/w600k_r50.onnx recognition ['None', 3, 112, 112] 127.5 127.5\n",
            "set det-size: (640, 640)\n",
            "[DLC.CORE] Processing...\n",
            "[DLC.FACE-SWAPPER] Progressing...\n",
            "Applied providers: ['AzureExecutionProvider', 'CPUExecutionProvider'], with options: {'CPUExecutionProvider': {}, 'AzureExecutionProvider': {}}\n",
            "inswapper-shape: [1, 3, 128, 128]\n",
            "[DLC.CORE] Processing to image succeed!\n"
          ]
        }
      ]
    },
    {
      "cell_type": "code",
      "source": [
        "!nvidia-smi\n"
      ],
      "metadata": {
        "colab": {
          "base_uri": "https://localhost:8080/"
        },
        "id": "5PYjSGFmbe0K",
        "outputId": "8e2ec43d-3a57-45f5-b55c-3c714a963662"
      },
      "execution_count": 15,
      "outputs": [
        {
          "output_type": "stream",
          "name": "stdout",
          "text": [
            "Tue Sep  3 20:13:30 2024       \n",
            "+---------------------------------------------------------------------------------------+\n",
            "| NVIDIA-SMI 535.104.05             Driver Version: 535.104.05   CUDA Version: 12.2     |\n",
            "|-----------------------------------------+----------------------+----------------------+\n",
            "| GPU  Name                 Persistence-M | Bus-Id        Disp.A | Volatile Uncorr. ECC |\n",
            "| Fan  Temp   Perf          Pwr:Usage/Cap |         Memory-Usage | GPU-Util  Compute M. |\n",
            "|                                         |                      |               MIG M. |\n",
            "|=========================================+======================+======================|\n",
            "|   0  Tesla T4                       Off | 00000000:00:04.0 Off |                    0 |\n",
            "| N/A   39C    P8               9W /  70W |      0MiB / 15360MiB |      0%      Default |\n",
            "|                                         |                      |                  N/A |\n",
            "+-----------------------------------------+----------------------+----------------------+\n",
            "                                                                                         \n",
            "+---------------------------------------------------------------------------------------+\n",
            "| Processes:                                                                            |\n",
            "|  GPU   GI   CI        PID   Type   Process name                            GPU Memory |\n",
            "|        ID   ID                                                             Usage      |\n",
            "|=======================================================================================|\n",
            "|  No running processes found                                                           |\n",
            "+---------------------------------------------------------------------------------------+\n"
          ]
        }
      ]
    }
  ]
}